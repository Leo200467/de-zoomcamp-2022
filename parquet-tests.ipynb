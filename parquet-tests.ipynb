{
 "cells": [
  {
   "cell_type": "markdown",
   "metadata": {},
   "source": [
    " This code was used to convert the csv file fhv_tripdata_2020-01, that required special treatment because presented parser issues [CSV parse error: Expected 7 columns, got 1: B02765]. It was noted that some spaces in the csv file where wrongly made and a regex was applied to replace them."
   ]
  },
  {
   "cell_type": "code",
   "execution_count": null,
   "metadata": {},
   "outputs": [],
   "source": [
    "import logging\n",
    "import pandas as pd\n",
    "\n",
    "file = r\"D:/de-zoomcamp-2022/fhv_tripdata_2020-01.csv\"\n",
    "\n",
    "def format_to_parquet(file_name):\n",
    "    if not file_name.endswith('.csv'):\n",
    "        logging.error(\"Can only accept source files in CSV format, for the moment\")\n",
    "        return\n",
    "    \n",
    "    df = pd.read_csv(file_name)\n",
    "\n",
    "    df = pd.DataFrame(df)\n",
    "\n",
    "    df.replace(regex=r\"s/(?<!\\r)\\n/\\1/g\")\n",
    "\n",
    "    file_name = file_name.replace('.csv', '.parquet')\n",
    "\n",
    "    df.to_parquet(file_name, engine='pyarrow')\n",
    "\n",
    "format_to_parquet(file)"
   ]
  },
  {
   "cell_type": "markdown",
   "metadata": {},
   "source": [
    "The upload for GCP was made manually but you can use the following function to perform a upload to your GCP"
   ]
  },
  {
   "cell_type": "code",
   "execution_count": null,
   "metadata": {},
   "outputs": [],
   "source": [
    "# from google.cloud import storage\n",
    "\n",
    "# bucket = 'your_gcp_bucket'\n",
    "# object_name = 'name for the file in your bucket that will be created'\n",
    "# local_file = 'complete path to your local parquet file'\n",
    "\n",
    "# def upload_to_gcs(bucket, object_name, local_file):\n",
    "#     \"\"\"\n",
    "#     Ref: https://cloud.google.com/storage/docs/uploading-objects#storage-upload-object-python\n",
    "#     \"\"\"\n",
    "#     # # WORKAROUND to prevent timeout for files > 6 MB on 800 kbps upload speed.\n",
    "#     # # (Ref: https://github.com/googleapis/python-storage/issues/74)\n",
    "#     # storage.blob._MAX_MULTIPART_SIZE = 5 * 1024 * 1024  # 5 MB\n",
    "#     # storage.blob._DEFAULT_CHUNKSIZE = 5 * 1024 * 1024  # 5 MB\n",
    "\n",
    "#     client = storage.Client(project=\"halogen-byte-339200\")\n",
    "#     bucket = client.bucket(bucket)\n",
    "#     blob = bucket.blob(object_name)\n",
    "#     blob.upload_from_filename(local_file)\n",
    "\n",
    "# upload_to_gcs(bucket, object_name, local_file)"
   ]
  }
 ],
 "metadata": {
  "interpreter": {
   "hash": "0a970e5711fffcc62d8d710a32dca9644f4e3c9120e1d73593923626cdbfdc24"
  },
  "kernelspec": {
   "display_name": "Python 3.8.10 ('training')",
   "language": "python",
   "name": "python3"
  },
  "language_info": {
   "codemirror_mode": {
    "name": "ipython",
    "version": 3
   },
   "file_extension": ".py",
   "mimetype": "text/x-python",
   "name": "python",
   "nbconvert_exporter": "python",
   "pygments_lexer": "ipython3",
   "version": "3.8.10"
  },
  "orig_nbformat": 4
 },
 "nbformat": 4,
 "nbformat_minor": 2
}
